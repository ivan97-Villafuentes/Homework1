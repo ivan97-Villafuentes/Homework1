{
 "cells": [
  {
   "cell_type": "markdown",
   "id": "606098b9",
   "metadata": {},
   "source": [
    "<center> \n",
    "    \n",
    "<img src='índice.png'>\n",
    " </center>\n",
    "\n",
    "\n",
    "\n",
    "\n",
    "## **Statsmodels**\n",
    "\n",
    "\n",
    "Statsmodels es un módulo de Python que permite a los usuarios explorar datos, estimar modelos estadísticos y realizar pruebas estadísticas. Se encuentra disponible una extensa lista de estadísticas descriptivas, pruebas estadísticas, funciones de representación gráfica y estadísticas de resultados para diferentes tipos de datos y cada estimador. Statsmodels se basa en NumPy, SciPy y matplotlib, pero contiene funciones más avanzadas para pruebas y modelos estadísticos que no encontrará en bibliotecas numéricas como NumPy o SciPy.\n",
    "Los investigadores de todos los campos pueden encontrar que statsmodels satisface completamente sus necesidades de computación estadística y análisis de datos en Python. La documentación en línea está alojada en [statsmodels](https://www.statsmodels.org/stable/index.html). Las características incluyen:\n",
    "\n",
    "    Regresión lineal\n",
    "    Modelos lineales generalizados\n",
    "    Ecuaciones de estimación generalizadas\n",
    "    Modelos lineales robustos\n",
    "    Modelos de efectos mixtos lineales\n",
    "    Regresión con variables dependientes discretas\n",
    "    ANOVA(Analysis of Variance models)\n",
    "    Análisis de series temporales\n",
    "    Modelos para análisis de supervivencia y duración\n",
    "    Estadísticas (por ejemplo, pruebas múltiples, cálculos del tamaño de la muestra, etc.)\n",
    "    Métodos no paramétricos\n",
    "    Método Generalizado de Momentos\n",
    "    Probabilidad empírica\n",
    "    Funciones gráficas\n",
    "    Un paquete de conjuntos de datos\n",
    "    Distribuciones\n",
    "\n",
    "\n",
    "\n"
   ]
  },
  {
   "cell_type": "markdown",
   "id": "ff20b789",
   "metadata": {},
   "source": [
    "## **Instalacion**\n",
    "\n",
    "statsmodels está disponible a través de conda proporcionado por Anaconda. La última versión se puede instalar usando:"
   ]
  },
  {
   "cell_type": "code",
   "execution_count": null,
   "id": "e1117044",
   "metadata": {},
   "outputs": [],
   "source": [
    "!pip install statsmodels"
   ]
  },
  {
   "cell_type": "code",
   "execution_count": 25,
   "id": "02481e23",
   "metadata": {},
   "outputs": [],
   "source": [
    "import statsmodels.api as sm"
   ]
  },
  {
   "cell_type": "code",
   "execution_count": 26,
   "id": "74cc6cd6",
   "metadata": {},
   "outputs": [
    {
     "data": {
      "text/plain": [
       "['BayesGaussMI',\n",
       " 'BinomialBayesMixedGLM',\n",
       " 'Factor',\n",
       " 'GEE',\n",
       " 'GLM',\n",
       " 'GLMGam',\n",
       " 'GLS',\n",
       " 'GLSAR',\n",
       " 'GeneralizedPoisson',\n",
       " 'Logit',\n",
       " 'MANOVA',\n",
       " 'MI',\n",
       " 'MICE',\n",
       " 'MICEData',\n",
       " 'MNLogit',\n",
       " 'MixedLM',\n",
       " 'NegativeBinomial',\n",
       " 'NegativeBinomialP',\n",
       " 'NominalGEE',\n",
       " 'OLS',\n",
       " 'OrdinalGEE',\n",
       " 'PCA',\n",
       " 'PHReg',\n",
       " 'Poisson',\n",
       " 'PoissonBayesMixedGLM',\n",
       " 'ProbPlot',\n",
       " 'Probit',\n",
       " 'QuantReg',\n",
       " 'RLM',\n",
       " 'RecursiveLS',\n",
       " 'SurvfuncRight',\n",
       " 'WLS',\n",
       " 'ZeroInflatedGeneralizedPoisson',\n",
       " 'ZeroInflatedNegativeBinomialP',\n",
       " 'ZeroInflatedPoisson',\n",
       " '__builtins__',\n",
       " '__cached__',\n",
       " '__doc__',\n",
       " '__file__',\n",
       " '__loader__',\n",
       " '__name__',\n",
       " '__package__',\n",
       " '__spec__',\n",
       " '__version__',\n",
       " 'add_constant',\n",
       " 'categorical',\n",
       " 'cov_struct',\n",
       " 'datasets',\n",
       " 'distributions',\n",
       " 'duration',\n",
       " 'emplike',\n",
       " 'families',\n",
       " 'formula',\n",
       " 'gam',\n",
       " 'genmod',\n",
       " 'graphics',\n",
       " 'iolib',\n",
       " 'load',\n",
       " 'load_pickle',\n",
       " 'multivariate',\n",
       " 'nonparametric',\n",
       " 'os',\n",
       " 'qqline',\n",
       " 'qqplot',\n",
       " 'qqplot_2samples',\n",
       " 'regression',\n",
       " 'robust',\n",
       " 'show_versions',\n",
       " 'stats',\n",
       " 'test',\n",
       " 'tools',\n",
       " 'tsa',\n",
       " 'webdoc']"
      ]
     },
     "execution_count": 26,
     "metadata": {},
     "output_type": "execute_result"
    }
   ],
   "source": [
    "dir(sm)"
   ]
  },
  {
   "cell_type": "markdown",
   "id": "ba72aea4",
   "metadata": {},
   "source": [
    "\n",
    "## **Regresión lineal¶**\n",
    "\n",
    "\n",
    "Modelos lineales con errores distribuidos de forma independiente e idéntica, y para errores con heterocedasticidad o autocorrelación. Este módulo permite la estimación por mínimos cuadrados ordinarios [OLS](https://www.statsmodels.org/stable/generated/statsmodels.regression.linear_model.OLS.html#statsmodels.regression.linear_model.OLS), mínimos cuadrados ponderados [WLS](https://www.statsmodels.org/stable/generated/statsmodels.regression.linear_model.WLS.html#statsmodels.regression.linear_model.WLS), mínimos cuadrados generalizados [GLS](https://www.statsmodels.org/stable/generated/statsmodels.regression.linear_model.GLS.html#statsmodels.regression.linear_model.GLS) y mínimos cuadrados generalizados factibles con errores AR(p) autocorrelacionados.\n",
    "\n",
    "\n",
    "\n",
    "## **Module Reference**¶\n",
    "Model Classes¶\n",
    "\n",
    "[OLS](https://www.statsmodels.org/stable/generated/statsmodels.regression.linear_model.OLS.html#statsmodels.regression.linear_model.OLS)(endog[, exog, missing, hasconst])  Mínimos cuadrados ordinarios\n",
    "\n",
    "[GLS](https://www.statsmodels.org/stable/generated/statsmodels.regression.linear_model.GLS.html#statsmodels.regression.linear_model.GLS)(endog, exog[, sigma, missing, hasconst]) Mínimos cuadrados generalizados\n",
    "\n",
    "[WLS](https://www.statsmodels.org/stable/generated/statsmodels.regression.linear_model.WLS.html#statsmodels.regression.linear_model.WLS)(endog, exog[, weights, missing, hasconst]) Mínimos cuadrados ponderados\n",
    "\n",
    "[GLSAR](https://www.statsmodels.org/stable/generated/statsmodels.regression.linear_model.GLSAR.html#statsmodels.regression.linear_model.GLSAR)(endog[, exog, rho, missing, hasconst]) Mínimos cuadrados generalizados con estructura de covarianza AR\n",
    "\n",
    "[yule_walker](https://www.statsmodels.org/stable/generated/statsmodels.regression.linear_model.yule_walker.html#statsmodels.regression.linear_model.yule_walker)(x[, order, method, df, inv, demean]) Estima los parámetros AR(p) de una secuencia utilizando las ecuaciones de Yule-Walker.\n",
    "\n",
    "[burg](https://www.statsmodels.org/stable/generated/statsmodels.regression.linear_model.burg.html#statsmodels.regression.linear_model.burg)(endog[, order, demean])  Calcula el estimador del parámetro AP(p) de Burg.\n",
    "\n",
    "[QuantReg](https://www.statsmodels.org/stable/generated/statsmodels.regression.quantile_regression.QuantReg.html#statsmodels.regression.quantile_regression.QuantReg)(endog, exog, **kwargs) Regresión de cuantiles\n",
    "\n",
    "[RecursiveLS](https://www.statsmodels.org/stable/generated/statsmodels.regression.recursive_ls.RecursiveLS.html#statsmodels.regression.recursive_ls.RecursiveLS)(endog, exog[, constraints]) Mínimos cuadrados recursivos\n",
    "\n",
    "[RollingWLS](https://www.statsmodels.org/stable/generated/statsmodels.regression.rolling.RollingWLS.html#statsmodels.regression.rolling.RollingWLS)(endog, exog[, window, weights, ...]) Mínimos cuadrados ponderados móviles\n",
    "\n",
    "[RollingOLS](https://www.statsmodels.org/stable/generated/statsmodels.regression.rolling.RollingOLS.html#statsmodels.regression.rolling.RollingOLS)(endog, exog[, window, min_nobs, ...]) Mínimos cuadrados ordinarios rodantes\n",
    "\n",
    "[GaussianCovariance](https://www.statsmodels.org/stable/generated/statsmodels.regression.process_regression.GaussianCovariance.html#statsmodels.regression.process_regression.GaussianCovariance)()  Una implementación de ProcessCovariance utilizando el núcleo gaussiano.\n",
    "\n",
    "[ProcessMLE](https://www.statsmodels.org/stable/generated/statsmodels.regression.process_regression.ProcessMLE.html#statsmodels.regression.process_regression.ProcessMLE)(endog, exog, exog_scale, ...[, cov]) Ajuste un modelo de regresión de media/varianza gaussiana.\n",
    "\n",
    "[SlicedInverseReg](https://www.statsmodels.org/stable/generated/statsmodels.regression.dimred.SlicedInverseReg.html#statsmodels.regression.dimred.SlicedInverseReg)(endog, exog, **kwargs) Regresión inversa en rodajas (SIR)\n",
    "\n",
    "[PrincipalHessianDirections](https://www.statsmodels.org/stable/generated/statsmodels.regression.dimred.PrincipalHessianDirections.html#statsmodels.regression.dimred.PrincipalHessianDirections)(endog, exog, **kwargs) Direcciones principales de Hesse (PHD)\n",
    "\n",
    "[SlicedAverageVarianceEstimation](https://www.statsmodels.org/stable/generated/statsmodels.regression.dimred.SlicedAverageVarianceEstimation.html#statsmodels.regression.dimred.SlicedAverageVarianceEstimation)(endog, exog, ...)  Estimación de la varianza promedio en rodajas (SAVE)"
   ]
  },
  {
   "cell_type": "markdown",
   "id": "1605595f",
   "metadata": {},
   "source": [
    "## **Regresión lineal**\n",
    "\n",
    "En estadística, la regresión lineal o ajuste lineal es un modelo matemático usado para aproximar la relación de dependencia entre una variable dependiente ${\\displaystyle Y}$ ,  ${\\displaystyle m}$ variables independientes ${\\displaystyle X_{i}}$ con m $∈$ ${\\displaystyle m\\in \\mathbb {Z} ^{+}}$ y un término aleatorio ${\\displaystyle \\varepsilon }$  . Este método es aplicable en muchas situaciones en las que se estudia la relación entre dos o más variables o predecir un comportamiento, algunas incluso sin relación con la tecnología. En caso de que no se pueda aplicar un modelo de regresión a un estudio, se dice que no hay correlación entre las variables estudiadas. Este modelo puede ser expresado como: \n",
    "\n",
    " \n",
    " $${\\displaystyle {\\begin{aligned}Y&=\\beta _{0}+\\beta _{1}X_{1}+\\cdots +\\beta _{m}X_{m}+\\varepsilon \\\\&=\\beta _{0}+\\sum _{j=1}^{m}\\beta _{j}X_{j}+\\varepsilon \\end{aligned}}}$$\n",
    "\n",
    "\n",
    "donde:\n",
    "\n",
    "*${\\displaystyle Y}$ es la variable dependiente o variable de respuesta.\n",
    "\n",
    "*${\\displaystyle X_{1},X_{2},\\dots ,X_{m}}$ son las variables explicativas, independientes o regresoras.\n",
    "\n",
    "*${\\displaystyle \\beta _{0},\\beta _{1},\\beta _{2},\\dots ,\\beta _{m}}$ son los parámetros del modelo, miden la influencia que las variables explicativas tienen sobre el regrediendo.\n",
    "\n",
    "## **Regresión lineal simple**\n",
    "\n",
    "El modelo de regresión lineal simple sólo está conformado por dos variables estadísticas llamadas ${\\displaystyle X}$ y ${\\displaystyle Y}$. Considera una única variable independiente o explicativa, ${\\displaystyle X}$, y una variable dependiente o respuesta, ${\\displaystyle Y}$, asumiendo que la relación entre ambas es lineal. Para la regresión lineal simple, se asume que ${\\displaystyle X}$ y ${\\displaystyle Y}$ se relacionan mediante la relación funcional (siendo ${\\displaystyle \\beta _{0}}$ y  ${\\displaystyle \\beta _{1}}$ estimadores)\n",
    "\n",
    "$$ {\\displaystyle Y=\\beta _{0}+\\beta _{1}X+\\varepsilon }$$\n",
    "\n",
    "donde ${\\displaystyle \\beta _{0},\\beta _{1}\\in \\mathbb {R} } {\\displaystyle \\beta _{0},\\beta _{1}\\in \\mathbb {R} } $son constantes desconocidas llamadas coeficientes de regresión.\n",
    "\n",
    " **Estimación de los parámetros**\n",
    " \n",
    "Dado que los parámetros  ${\\displaystyle \\beta _{0}}$ y  ${\\displaystyle \\beta _{1}}$ son constantes desconocidas, estas deben estimarse mediante los datos de la muestra, supóngase que se tiene ${\\displaystyle \\{x_{i},y_{i}\\}_{i=1}^{n}}$, se estimarán los parámetros utilizando el método de mínimos cuadrados.\n",
    "\n",
    "Se estiman ${\\displaystyle \\beta _{0}}$ y ${\\displaystyle \\beta _{1}}$ tal que la suma de los cuadrados de las diferencias entre las observaciones y ${\\displaystyle y_{i}}$ y la recta de regresión sea mínima, esto es, buscamos minimizar la función error cuadrático dada por \n",
    "\n",
    "\n",
    "\n",
    "$$ {\\displaystyle S(\\beta _{0},\\beta _{1})=\\sum _{i=1}^{n}\\left(y_{i}-\\beta _{0}-\\beta _{1}x_{i}\\right)^{2}}$$\n",
    "\n",
    "La función de error cuadrático ${\\displaystyle S(\\beta _{0},\\beta _{1})}$  alcanza un mínimo en el punto  ${\\displaystyle \\left({\\hat {\\beta }}_{0},{\\hat {\\beta }}_{1}\\right)}$  tal que \n",
    "\n",
    "\n",
    "$${\\displaystyle \\left.{\\frac {\\partial S}{\\partial \\beta _{0}}}\\right|_{{\\hat {\\beta }}_{0},{\\hat {\\beta }}_{1}}=\\left.{\\frac {\\partial S}{\\partial \\beta _{1}}}\\right|_{{\\hat {\\beta }}_{0},{\\hat {\\beta }}_{1}}=0} $$\n",
    "\n",
    "entonces derivando respecto  ${\\displaystyle \\beta _{0}}$  y ${\\displaystyle \\beta _{1}}$, evaluando en ${\\displaystyle {\\hat {\\beta }}_{0}}$  y  ${\\displaystyle {\\hat {\\beta }}_{1}}$  e igualando a cero, obtenemos el siguiente sistema de ecuaciones \n",
    "\n",
    "$${\\displaystyle {\\begin{cases}\\displaystyle -2\\sum _{i=1}^{n}\\left(y_{i}-{\\hat {\\beta }}_{0}-{\\hat {\\beta }}_{1}x_{i}\\right)=0\\\\\\displaystyle -2\\sum _{i=1}^{n}\\left(y_{i}-{\\hat {\\beta }}_{0}-{\\hat {\\beta }}_{1}x_{i}\\right)x_{i}=0\\end{cases}}}$$\n",
    "\n",
    "estas dos ecuaciones son conocidas como ecuaciones normales la solución de dicho sistema de ecuaciones está dada por:\n",
    "\n",
    "$${\\displaystyle {\\begin{aligned}{\\hat {\\beta }}_{1}&={\\frac {\\displaystyle \\sum _{i=1}^{n}x_{i}y_{i}-n{\\bar {x}}{\\bar {y}}}{\\displaystyle \\sum _{i=1}^{n}x_{i}^{2}-{\\frac {1}{n}}\\left(\\sum _{i=1}^{n}x_{i}\\right)^{2}}}\\\\{\\hat {\\beta }}_{0}&={\\frac {\\displaystyle \\sum _{i=1}^{n}x_{i}^{2}\\sum _{i=1}^{n}y_{i}-\\sum _{i=1}^{n}x_{i}y_{i}\\sum _{i=1}^{n}x_{i}}{\\displaystyle n\\sum _{i=1}^{n}x_{i}^{2}-\\left(\\sum _{i=1}^{n}x_{i}\\right)^{2}}}={\\bar {y}}-{\\hat {\\beta }}_{1}{\\bar {x}}\\end{aligned}}}$$\n",
    " \n",
    "La interpretación del parámetro medio ${\\displaystyle {\\beta _{1}}}$ es que un incremento en ${\\displaystyle {X_{i}}}$ de una unidad, ${\\displaystyle {Y_{i}}}$ incrementará en ${\\displaystyle {\\beta _{1}}}$. Luego el modelo ajustado de regresión lineal simple es \n",
    "\n",
    "$${\\displaystyle {\\hat {y}}={\\hat {\\beta }}_{0}+{\\hat {\\beta }}_{1}x}.$$"
   ]
  },
  {
   "cell_type": "markdown",
   "id": "1692cb1a",
   "metadata": {},
   "source": [
    "## **Mínimos cuadrados ordinarios (OLS)**"
   ]
  },
  {
   "cell_type": "code",
   "execution_count": 59,
   "id": "d6b1c0e4",
   "metadata": {},
   "outputs": [],
   "source": [
    "import pandas as pd\n",
    "import statsmodels.api as sm\n",
    "import statsmodels.formula.api as smf\n",
    "\n",
    "import matplotlib.pyplot as plt"
   ]
  },
  {
   "cell_type": "markdown",
   "id": "1e70a124",
   "metadata": {},
   "source": [
    "Para leer los datos usaremos la función read_csv de pandas"
   ]
  },
  {
   "cell_type": "code",
   "execution_count": 60,
   "id": "a722cf15",
   "metadata": {},
   "outputs": [],
   "source": [
    "file = 'https://raw.githubusercontent.com/fhernanb/Python-para-estadistica/master/03%20Regression/Regresi%C3%B3n%20lineal%20simple/softdrink.csv'\n",
    "dt = pd.read_csv(file)"
   ]
  },
  {
   "cell_type": "markdown",
   "id": "0cdd5aff",
   "metadata": {},
   "source": [
    "Para mostrar la parte inicial de los datos usamos head()"
   ]
  },
  {
   "cell_type": "code",
   "execution_count": 61,
   "id": "e4d59bdf",
   "metadata": {},
   "outputs": [
    {
     "data": {
      "text/html": [
       "<div>\n",
       "<style scoped>\n",
       "    .dataframe tbody tr th:only-of-type {\n",
       "        vertical-align: middle;\n",
       "    }\n",
       "\n",
       "    .dataframe tbody tr th {\n",
       "        vertical-align: top;\n",
       "    }\n",
       "\n",
       "    .dataframe thead th {\n",
       "        text-align: right;\n",
       "    }\n",
       "</style>\n",
       "<table border=\"1\" class=\"dataframe\">\n",
       "  <thead>\n",
       "    <tr style=\"text-align: right;\">\n",
       "      <th></th>\n",
       "      <th>Obs</th>\n",
       "      <th>y</th>\n",
       "      <th>x1</th>\n",
       "      <th>x2</th>\n",
       "    </tr>\n",
       "  </thead>\n",
       "  <tbody>\n",
       "    <tr>\n",
       "      <th>0</th>\n",
       "      <td>1</td>\n",
       "      <td>16.68</td>\n",
       "      <td>7</td>\n",
       "      <td>560</td>\n",
       "    </tr>\n",
       "    <tr>\n",
       "      <th>1</th>\n",
       "      <td>2</td>\n",
       "      <td>11.50</td>\n",
       "      <td>3</td>\n",
       "      <td>220</td>\n",
       "    </tr>\n",
       "    <tr>\n",
       "      <th>2</th>\n",
       "      <td>3</td>\n",
       "      <td>12.03</td>\n",
       "      <td>3</td>\n",
       "      <td>340</td>\n",
       "    </tr>\n",
       "    <tr>\n",
       "      <th>3</th>\n",
       "      <td>4</td>\n",
       "      <td>14.88</td>\n",
       "      <td>4</td>\n",
       "      <td>80</td>\n",
       "    </tr>\n",
       "    <tr>\n",
       "      <th>4</th>\n",
       "      <td>5</td>\n",
       "      <td>13.75</td>\n",
       "      <td>6</td>\n",
       "      <td>150</td>\n",
       "    </tr>\n",
       "  </tbody>\n",
       "</table>\n",
       "</div>"
      ],
      "text/plain": [
       "   Obs      y  x1   x2\n",
       "0    1  16.68   7  560\n",
       "1    2  11.50   3  220\n",
       "2    3  12.03   3  340\n",
       "3    4  14.88   4   80\n",
       "4    5  13.75   6  150"
      ]
     },
     "execution_count": 61,
     "metadata": {},
     "output_type": "execute_result"
    }
   ],
   "source": [
    "dt.head()"
   ]
  },
  {
   "cell_type": "markdown",
   "id": "ed50a7df",
   "metadata": {},
   "source": [
    "Para crear el diagrama de dispersión usamos la función plot."
   ]
  },
  {
   "cell_type": "code",
   "execution_count": 62,
   "id": "f7f46749",
   "metadata": {},
   "outputs": [
    {
     "data": {
      "image/png": "[encoded data removed]",
      "text/plain": [
       "<Figure size 432x288 with 1 Axes>"
      ]
     },
     "metadata": {
      "needs_background": "light"
     },
     "output_type": "display_data"
    }
   ],
   "source": [
    "dt.plot(kind='scatter', x='x1', y='y');"
   ]
  },
  {
   "cell_type": "markdown",
   "id": "ffc70759",
   "metadata": {},
   "source": [
    "1. Creando el modelo de regresión usando statsmodels.api"
   ]
  },
  {
   "cell_type": "code",
   "execution_count": 63,
   "id": "783baaf6",
   "metadata": {},
   "outputs": [],
   "source": [
    "X= dt[\"x1\"]                          ## X generalmente significa nuestras variables de entrada (o variables independientes)\n",
    "X= sm.add_constant(X.values)         ## agreguemos una intersección (beta_0) a nuestro modelo\n",
    "y= dt[\"y\"]                           ## Y  nuestra salida/variable dependiente"
   ]
  },
  {
   "cell_type": "markdown",
   "id": "262fbdc7",
   "metadata": {},
   "source": [
    "Para ver los 5 primeros elementos de la matriz\n",
    "y el vector usamos:"
   ]
  },
  {
   "cell_type": "code",
   "execution_count": 64,
   "id": "ab026f03",
   "metadata": {},
   "outputs": [
    {
     "name": "stdout",
     "output_type": "stream",
     "text": [
      "[[1. 7.]\n",
      " [1. 3.]\n",
      " [1. 3.]\n",
      " [1. 4.]\n",
      " [1. 6.]]\n",
      "\n",
      "\n",
      "0    16.68\n",
      "1    11.50\n",
      "2    12.03\n",
      "3    14.88\n",
      "4    13.75\n",
      "Name: y, dtype: float64\n"
     ]
    }
   ],
   "source": [
    "print(X[0:5])\n",
    "print('\\n')\n",
    "print(y[0:5])"
   ]
  },
  {
   "cell_type": "markdown",
   "id": "405d1412",
   "metadata": {},
   "source": [
    "Para ajustar el modelo usamos:"
   ]
  },
  {
   "cell_type": "code",
   "execution_count": 65,
   "id": "8a8c91e8",
   "metadata": {},
   "outputs": [],
   "source": [
    "mod1 = sm.OLS(y,X).fit()  "
   ]
  },
  {
   "cell_type": "code",
   "execution_count": 66,
   "id": "f1d37108",
   "metadata": {},
   "outputs": [],
   "source": [
    "predictions = mod1.predict(X)"
   ]
  },
  {
   "cell_type": "markdown",
   "id": "e568f82f",
   "metadata": {},
   "source": [
    "Para obtener un resumen del modelo ajustado usamos el siguiente código."
   ]
  },
  {
   "cell_type": "code",
   "execution_count": 67,
   "id": "4a6bac6b",
   "metadata": {},
   "outputs": [
    {
     "data": {
      "text/html": [
       "<table class=\"simpletable\">\n",
       "<caption>OLS Regression Results</caption>\n",
       "<tr>\n",
       "  <th>Dep. Variable:</th>            <td>y</td>        <th>  R-squared:         </th> <td>   0.930</td>\n",
       "</tr>\n",
       "<tr>\n",
       "  <th>Model:</th>                   <td>OLS</td>       <th>  Adj. R-squared:    </th> <td>   0.927</td>\n",
       "</tr>\n",
       "<tr>\n",
       "  <th>Method:</th>             <td>Least Squares</td>  <th>  F-statistic:       </th> <td>   307.8</td>\n",
       "</tr>\n",
       "<tr>\n",
       "  <th>Date:</th>             <td>Mon, 02 May 2022</td> <th>  Prob (F-statistic):</th> <td>8.22e-15</td>\n",
       "</tr>\n",
       "<tr>\n",
       "  <th>Time:</th>                 <td>08:32:33</td>     <th>  Log-Likelihood:    </th> <td> -70.197</td>\n",
       "</tr>\n",
       "<tr>\n",
       "  <th>No. Observations:</th>      <td>    25</td>      <th>  AIC:               </th> <td>   144.4</td>\n",
       "</tr>\n",
       "<tr>\n",
       "  <th>Df Residuals:</th>          <td>    23</td>      <th>  BIC:               </th> <td>   146.8</td>\n",
       "</tr>\n",
       "<tr>\n",
       "  <th>Df Model:</th>              <td>     1</td>      <th>                     </th>     <td> </td>   \n",
       "</tr>\n",
       "<tr>\n",
       "  <th>Covariance Type:</th>      <td>nonrobust</td>    <th>                     </th>     <td> </td>   \n",
       "</tr>\n",
       "</table>\n",
       "<table class=\"simpletable\">\n",
       "<tr>\n",
       "    <td></td>       <th>coef</th>     <th>std err</th>      <th>t</th>      <th>P>|t|</th>  <th>[0.025</th>    <th>0.975]</th>  \n",
       "</tr>\n",
       "<tr>\n",
       "  <th>const</th> <td>    3.3208</td> <td>    1.371</td> <td>    2.422</td> <td> 0.024</td> <td>    0.484</td> <td>    6.157</td>\n",
       "</tr>\n",
       "<tr>\n",
       "  <th>x1</th>    <td>    2.1762</td> <td>    0.124</td> <td>   17.546</td> <td> 0.000</td> <td>    1.920</td> <td>    2.433</td>\n",
       "</tr>\n",
       "</table>\n",
       "<table class=\"simpletable\">\n",
       "<tr>\n",
       "  <th>Omnibus:</th>       <td> 2.383</td> <th>  Durbin-Watson:     </th> <td>   0.946</td>\n",
       "</tr>\n",
       "<tr>\n",
       "  <th>Prob(Omnibus):</th> <td> 0.304</td> <th>  Jarque-Bera (JB):  </th> <td>   1.037</td>\n",
       "</tr>\n",
       "<tr>\n",
       "  <th>Skew:</th>          <td> 0.388</td> <th>  Prob(JB):          </th> <td>   0.595</td>\n",
       "</tr>\n",
       "<tr>\n",
       "  <th>Kurtosis:</th>      <td> 3.627</td> <th>  Cond. No.          </th> <td>    18.2</td>\n",
       "</tr>\n",
       "</table><br/><br/>Notes:<br/>[1] Standard Errors assume that the covariance matrix of the errors is correctly specified."
      ],
      "text/plain": [
       "<class 'statsmodels.iolib.summary.Summary'>\n",
       "\"\"\"\n",
       "                            OLS Regression Results                            \n",
       "==============================================================================\n",
       "Dep. Variable:                      y   R-squared:                       0.930\n",
       "Model:                            OLS   Adj. R-squared:                  0.927\n",
       "Method:                 Least Squares   F-statistic:                     307.8\n",
       "Date:                Mon, 02 May 2022   Prob (F-statistic):           8.22e-15\n",
       "Time:                        08:32:33   Log-Likelihood:                -70.197\n",
       "No. Observations:                  25   AIC:                             144.4\n",
       "Df Residuals:                      23   BIC:                             146.8\n",
       "Df Model:                           1                                         \n",
       "Covariance Type:            nonrobust                                         \n",
       "==============================================================================\n",
       "                 coef    std err          t      P>|t|      [0.025      0.975]\n",
       "------------------------------------------------------------------------------\n",
       "const          3.3208      1.371      2.422      0.024       0.484       6.157\n",
       "x1             2.1762      0.124     17.546      0.000       1.920       2.433\n",
       "==============================================================================\n",
       "Omnibus:                        2.383   Durbin-Watson:                   0.946\n",
       "Prob(Omnibus):                  0.304   Jarque-Bera (JB):                1.037\n",
       "Skew:                           0.388   Prob(JB):                        0.595\n",
       "Kurtosis:                       3.627   Cond. No.                         18.2\n",
       "==============================================================================\n",
       "\n",
       "Notes:\n",
       "[1] Standard Errors assume that the covariance matrix of the errors is correctly specified.\n",
       "\"\"\""
      ]
     },
     "execution_count": 67,
     "metadata": {},
     "output_type": "execute_result"
    }
   ],
   "source": [
    "mod1.summary()"
   ]
  },
  {
   "cell_type": "markdown",
   "id": "575c8f59",
   "metadata": {},
   "source": [
    "2. Ajustando el modelo por medio de fórmulas con statsmodels.formula.api"
   ]
  },
  {
   "cell_type": "code",
   "execution_count": 46,
   "id": "2a2b97db",
   "metadata": {},
   "outputs": [],
   "source": [
    "mod2 = smf.ols('y~ x1', data=dt).fit()"
   ]
  },
  {
   "cell_type": "code",
   "execution_count": 47,
   "id": "262cf198",
   "metadata": {},
   "outputs": [
    {
     "name": "stdout",
     "output_type": "stream",
     "text": [
      "                            OLS Regression Results                            \n",
      "==============================================================================\n",
      "Dep. Variable:                      y   R-squared:                       0.930\n",
      "Model:                            OLS   Adj. R-squared:                  0.927\n",
      "Method:                 Least Squares   F-statistic:                     307.8\n",
      "Date:                Sat, 30 Apr 2022   Prob (F-statistic):           8.22e-15\n",
      "Time:                        14:21:38   Log-Likelihood:                -70.197\n",
      "No. Observations:                  25   AIC:                             144.4\n",
      "Df Residuals:                      23   BIC:                             146.8\n",
      "Df Model:                           1                                         \n",
      "Covariance Type:            nonrobust                                         \n",
      "==============================================================================\n",
      "                 coef    std err          t      P>|t|      [0.025      0.975]\n",
      "------------------------------------------------------------------------------\n",
      "Intercept      3.3208      1.371      2.422      0.024       0.484       6.157\n",
      "x1             2.1762      0.124     17.546      0.000       1.920       2.433\n",
      "==============================================================================\n",
      "Omnibus:                        2.383   Durbin-Watson:                   0.946\n",
      "Prob(Omnibus):                  0.304   Jarque-Bera (JB):                1.037\n",
      "Skew:                           0.388   Prob(JB):                        0.595\n",
      "Kurtosis:                       3.627   Cond. No.                         18.2\n",
      "==============================================================================\n",
      "\n",
      "Notes:\n",
      "[1] Standard Errors assume that the covariance matrix of the errors is correctly specified.\n"
     ]
    }
   ],
   "source": [
    "print(mod2.summary())"
   ]
  },
  {
   "cell_type": "code",
   "execution_count": 70,
   "id": "9c728da8",
   "metadata": {},
   "outputs": [
    {
     "data": {
      "image/png": "[encoded data removed]",
      "text/plain": [
       "<Figure size 576x432 with 1 Axes>"
      ]
     },
     "metadata": {
      "needs_background": "light"
     },
     "output_type": "display_data"
    }
   ],
   "source": [
    "fig, ax= plt.subplots (figsize=(8,6))\n",
    "ax.plot(dt[\"x1\"], dt[\"y\"],  'o', label=\"Datos\")\n",
    "ax.plot(dt[\"x1\"], mod2.fittedvalues, 'r--.', label=\"Ajustado\")\n",
    "legend=ax.legend(loc=\"best\")\n",
    "plt.xlabel('Cantidad')\n",
    "plt.ylabel('Tiempo')\n",
    "plt.title('Diagrama de dispersion con la recta del modelo ajustado');"
   ]
  },
  {
   "cell_type": "markdown",
   "id": "92200268",
   "metadata": {},
   "source": [
    "## Regresion de Modelos de orden superior"
   ]
  },
  {
   "cell_type": "code",
   "execution_count": 20,
   "id": "9d053dd2",
   "metadata": {},
   "outputs": [],
   "source": [
    "import matplotlib.pyplot as plt\n",
    "import numpy as np\n",
    "import pandas as pd\n",
    "import statsmodels.api as sm\n",
    "\n"
   ]
  },
  {
   "cell_type": "code",
   "execution_count": 21,
   "id": "a937bc1d",
   "metadata": {},
   "outputs": [],
   "source": [
    "nsample = 100                       ## Cantidad de datos\n",
    "x = np.linspace(0, 10, 100)        ## Crea auna matriz  de los datos organizados igualmente \n",
    "X = np.column_stack((x, x ** 2))   ## crea las columnas para x_1 y x_2\n",
    "beta = np.array([1, 0.1, 10])      ##  Configura el modelo b_0, b_1, b_2  \n",
    "e = np.random.normal(size=nsample)   ## Termino de error  a los datos, por lo que se genera una muestra de Distribucion normal de longuitud k.\n"
   ]
  },
  {
   "cell_type": "code",
   "execution_count": 22,
   "id": "8895047b",
   "metadata": {},
   "outputs": [],
   "source": [
    "X = sm.add_constant(X)  ## Agrega una lista de constantes a la matriz\n",
    "y = np.dot(X, beta) + e   ##  Termino de reaccion y(t), siendo una relacion polinomial de segundo orden."
   ]
  },
  {
   "cell_type": "code",
   "execution_count": 23,
   "id": "ec8dc56b",
   "metadata": {},
   "outputs": [],
   "source": [
    "model = sm.OLS(y, X)      ## Funcion OLS() en variables de reaccion y regresion\n",
    "results = model.fit()     ## Resultado del Ajuste\n"
   ]
  },
  {
   "cell_type": "code",
   "execution_count": 24,
   "id": "5ad8ac32",
   "metadata": {},
   "outputs": [
    {
     "name": "stdout",
     "output_type": "stream",
     "text": [
      "Parameters:  [ 1.1875799   0.06751355 10.00087227]\n",
      "R2:  0.9999904584846492\n"
     ]
    }
   ],
   "source": [
    "print(\"Parameters: \", results.params)\n",
    "print(\"R2: \", results.rsquared)"
   ]
  },
  {
   "cell_type": "code",
   "execution_count": 19,
   "id": "ab943468",
   "metadata": {},
   "outputs": [
    {
     "name": "stdout",
     "output_type": "stream",
     "text": [
      "                            OLS Regression Results                            \n",
      "==============================================================================\n",
      "Dep. Variable:                      y   R-squared:                       1.000\n",
      "Model:                            OLS   Adj. R-squared:                  1.000\n",
      "Method:                 Least Squares   F-statistic:                 4.020e+06\n",
      "Date:                Mon, 02 May 2022   Prob (F-statistic):          2.83e-239\n",
      "Time:                        16:31:24   Log-Likelihood:                -146.51\n",
      "No. Observations:                 100   AIC:                             299.0\n",
      "Df Residuals:                      97   BIC:                             306.8\n",
      "Df Model:                           2                                         \n",
      "Covariance Type:            nonrobust                                         \n",
      "==============================================================================\n",
      "                 coef    std err          t      P>|t|      [0.025      0.975]\n",
      "------------------------------------------------------------------------------\n",
      "const          1.3423      0.313      4.292      0.000       0.722       1.963\n",
      "x1            -0.0402      0.145     -0.278      0.781      -0.327       0.247\n",
      "x2            10.0103      0.014    715.745      0.000       9.982      10.038\n",
      "==============================================================================\n",
      "Omnibus:                        2.042   Durbin-Watson:                   2.274\n",
      "Prob(Omnibus):                  0.360   Jarque-Bera (JB):                1.875\n",
      "Skew:                           0.234   Prob(JB):                        0.392\n",
      "Kurtosis:                       2.519   Cond. No.                         144.\n",
      "==============================================================================\n",
      "\n",
      "Notes:\n",
      "[1] Standard Errors assume that the covariance matrix of the errors is correctly specified.\n"
     ]
    }
   ],
   "source": [
    "print(results.summary())\n"
   ]
  },
  {
   "cell_type": "code",
   "execution_count": null,
   "id": "44b4d420",
   "metadata": {},
   "outputs": [],
   "source": []
  }
 ],
 "metadata": {
  "kernelspec": {
   "display_name": "Python 3 (ipykernel)",
   "language": "python",
   "name": "python3"
  },
  "language_info": {
   "codemirror_mode": {
    "name": "ipython",
    "version": 3
   },
   "file_extension": ".py",
   "mimetype": "text/x-python",
   "name": "python",
   "nbconvert_exporter": "python",
   "pygments_lexer": "ipython3",
   "version": "3.9.7"
  }
 },
 "nbformat": 4,
 "nbformat_minor": 5
}
